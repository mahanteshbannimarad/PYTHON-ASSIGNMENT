{
 "cells": [
  {
   "cell_type": "code",
   "execution_count": null,
   "metadata": {},
   "outputs": [],
   "source": [
    "#prg to find sum of two numbers\n",
    "num1=float(input(\"Enter first no\"))\n",
    "num2=float(input(\"Enter Second no\"))\n",
    "sum=num1+num2\n",
    "print(\"sum of two nums=\",sum)"
   ]
  },
  {
   "cell_type": "code",
   "execution_count": null,
   "metadata": {},
   "outputs": [],
   "source": []
  }
 ],
 "metadata": {
  "language_info": {
   "name": "python"
  },
  "orig_nbformat": 4
 },
 "nbformat": 4,
 "nbformat_minor": 2
}
